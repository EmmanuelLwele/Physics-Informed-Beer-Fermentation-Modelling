{
 "cells": [
  {
   "cell_type": "markdown",
   "id": "b3969a08",
   "metadata": {},
   "source": [
    "## Physics-Informed Beer Fermentation Modelling (PINNs)\n",
    "\n",
    "**Purpose:**  \n",
    "This notebook demonstrates the implementation of **Physics-Informed Neural Networks (PINNs)** and baseline surrogate models for **beer fermentation kinetics**. The goal is to integrate **mechanistic fermentation equations** (sugar consumption, biomass growth, ethanol production) with **experimental data** to build a robust **digital twin** of the fermentation process.\n",
    "\n",
    "**Key Features:**\n",
    "- Physics-informed modelling using **ODE-based loss functions**.\n",
    "- Comparison with baseline models: **Random Forests, Gaussian Processes, RNN/LSTM/GRU**.\n",
    "- Flexible framework for **training, evaluation, and visualization**.\n",
    "- Supports **real-time prediction** for digital twin applications.\n",
    "\n",
    "**Experimental Setup:**\n",
    "- Fermentation data collected from *Saccharomyces cerevisiae* (US-05) and *Saccharomyces pastorianus* (S-23).\n",
    "- Measurements include: **specific gravity, pH, and temperature** over a 300 h period.\n",
    "\n",
    "**Notebook Structure:**\n",
    "1. **Data Loading & Preprocessing** — Prepare datasets for PINN and baseline models.\n",
    "2. **Model Definition** — Define PINN architecture, custom loss, and baseline ML models.\n",
    "3. **Training** — Optimize PINN and baselines with multi-term loss and physics constraints.\n",
    "4. **Evaluation & Visualization** — Compare predicted fermentation curves with experimental data.\n",
    "5. **Surrogate Model Integration** — Showcase trained models for potential digital twin deployment.\n",
    "\n",
    "**References:**\n",
    "- Emmanuel Lwele, *Physics-Informed Surrogate Modelling and Digital Twin Development for Bioprocess Optimization*, Sheffield Hallam University, 2025.\n",
    "- PINNs literature: Raissi et al., 2019; Karniadakis et al., 2021.\n",
    "\n",
    "---\n"
   ]
  },
  {
   "cell_type": "code",
   "execution_count": 15,
   "id": "cc2266e6",
   "metadata": {},
   "outputs": [
    {
     "name": "stdout",
     "output_type": "stream",
     "text": [
      "Hello World\n"
     ]
    }
   ],
   "source": [
    "print(\"Hello World\")"
   ]
  }
 ],
 "metadata": {
  "kernelspec": {
   "display_name": "base",
   "language": "python",
   "name": "python3"
  },
  "language_info": {
   "codemirror_mode": {
    "name": "ipython",
    "version": 3
   },
   "file_extension": ".py",
   "mimetype": "text/x-python",
   "name": "python",
   "nbconvert_exporter": "python",
   "pygments_lexer": "ipython3",
   "version": "3.11.7"
  }
 },
 "nbformat": 4,
 "nbformat_minor": 5
}
