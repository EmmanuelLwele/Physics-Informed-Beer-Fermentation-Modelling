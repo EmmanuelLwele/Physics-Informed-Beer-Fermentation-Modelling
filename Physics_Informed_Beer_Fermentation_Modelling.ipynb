{
 "cells": [
  {
   "cell_type": "markdown",
   "id": "b656a90e",
   "metadata": {},
   "source": [
    "### Physics-Informed Beer Fermentation Modelling"
   ]
  }
 ],
 "metadata": {
  "language_info": {
   "name": "python"
  }
 },
 "nbformat": 4,
 "nbformat_minor": 5
}
